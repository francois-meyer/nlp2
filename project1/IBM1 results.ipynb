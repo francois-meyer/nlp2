{
 "cells": [
  {
   "cell_type": "code",
   "execution_count": 1,
   "metadata": {},
   "outputs": [
    {
     "name": "stderr",
     "output_type": "stream",
     "text": [
      "DEBUG:matplotlib.pyplot:Loaded backend module://ipykernel.pylab.backend_inline version unknown.\n"
     ]
    }
   ],
   "source": [
    "import importlib\n",
    "import imp\n",
    "import ibm\n",
    "from ibm import *\n",
    "from aer import *"
   ]
  },
  {
   "cell_type": "code",
   "execution_count": 2,
   "metadata": {},
   "outputs": [
    {
     "data": {
      "text/plain": [
       "<module 'ibm' from '/home/frmeyer/uva/nlp2/project1/ibm.py'>"
      ]
     },
     "execution_count": 2,
     "metadata": {},
     "output_type": "execute_result"
    }
   ],
   "source": [
    "imp.reload(ibm)"
   ]
  },
  {
   "cell_type": "code",
   "execution_count": 3,
   "metadata": {},
   "outputs": [
    {
     "name": "stderr",
     "output_type": "stream",
     "text": [
      "INFO:root:Creating English vocabulary...\n",
      "INFO:root:Creating French vocabulary...\n",
      "INFO:root:Initialising model parameters...\n",
      "INFO:root:Training parameters with EM...\n",
      "INFO:root:Starting iteration 1\n",
      "INFO:root:Expectation step\n",
      "INFO:root:Maximisation step\n",
      "INFO:root:Complete\n",
      "INFO:root:Training log likelihood: 364756.9257984776\n",
      "INFO:root:Validation AER: 0.3672692673644149\n",
      "INFO:root:Writing predicted test alignments to file.\n",
      "INFO:root:Starting iteration 2\n",
      "INFO:root:Expectation step\n",
      "INFO:root:Maximisation step\n",
      "INFO:root:Complete\n",
      "INFO:root:Training log likelihood: 452909.4162425776\n",
      "INFO:root:Validation AER: 0.3317353787152445\n",
      "INFO:root:Writing predicted test alignments to file.\n",
      "INFO:root:Starting iteration 3\n",
      "INFO:root:Expectation step\n",
      "INFO:root:Maximisation step\n",
      "INFO:root:Complete\n",
      "INFO:root:Training log likelihood: 484924.93060572085\n",
      "INFO:root:Validation AER: 0.32756964457252646\n",
      "INFO:root:Writing predicted test alignments to file.\n",
      "INFO:root:Starting iteration 4\n",
      "INFO:root:Expectation step\n",
      "INFO:root:Maximisation step\n",
      "INFO:root:Complete\n",
      "INFO:root:Training log likelihood: 497452.3999828513\n",
      "INFO:root:Validation AER: 0.3262752646775746\n",
      "INFO:root:Writing predicted test alignments to file.\n",
      "INFO:root:Starting iteration 5\n",
      "INFO:root:Expectation step\n",
      "INFO:root:Maximisation step\n",
      "INFO:root:Complete\n",
      "INFO:root:Training log likelihood: 504010.0638086663\n",
      "INFO:root:Validation AER: 0.33012512030798846\n",
      "INFO:root:Starting iteration 6\n",
      "INFO:root:Expectation step\n",
      "INFO:root:Maximisation step\n",
      "INFO:root:Complete\n",
      "INFO:root:Training log likelihood: 508106.4212377396\n",
      "INFO:root:Validation AER: 0.3320500481231954\n",
      "INFO:root:Starting iteration 7\n",
      "INFO:root:Expectation step\n",
      "INFO:root:Maximisation step\n",
      "INFO:root:Complete\n",
      "INFO:root:Training log likelihood: 510918.2713399911\n",
      "INFO:root:Validation AER: 0.3278688524590164\n",
      "INFO:root:Starting iteration 8\n",
      "INFO:root:Expectation step\n",
      "INFO:root:Maximisation step\n",
      "INFO:root:Complete\n",
      "INFO:root:Training log likelihood: 512956.6092201972\n",
      "INFO:root:Validation AER: 0.3288331726133076\n",
      "INFO:root:Starting iteration 9\n",
      "INFO:root:Expectation step\n",
      "INFO:root:Maximisation step\n",
      "INFO:root:Complete\n",
      "INFO:root:Training log likelihood: 514488.6312446394\n",
      "INFO:root:Validation AER: 0.32755298651252407\n",
      "INFO:root:Starting iteration 10\n",
      "INFO:root:Expectation step\n",
      "INFO:root:Maximisation step\n",
      "INFO:root:Complete\n",
      "INFO:root:Training log likelihood: 515671.4570267893\n",
      "INFO:root:Validation AER: 0.3217726396917149\n",
      "INFO:root:Writing predicted test alignments to file.\n",
      "INFO:root:Starting iteration 11\n",
      "INFO:root:Expectation step\n",
      "INFO:root:Maximisation step\n",
      "INFO:root:Complete\n",
      "INFO:root:Training log likelihood: 516604.7075860194\n",
      "INFO:root:Validation AER: 0.32369942196531787\n",
      "INFO:root:Starting iteration 12\n",
      "INFO:root:Expectation step\n",
      "INFO:root:Maximisation step\n",
      "INFO:root:Complete\n",
      "INFO:root:Training log likelihood: 517354.44503582595\n",
      "INFO:root:Validation AER: 0.32369942196531787\n",
      "INFO:root:Starting iteration 13\n",
      "INFO:root:Expectation step\n",
      "INFO:root:Maximisation step\n",
      "INFO:root:Complete\n",
      "INFO:root:Training log likelihood: 517965.9007658059\n",
      "INFO:root:Validation AER: 0.3239573229873909\n",
      "INFO:root:Starting iteration 14\n",
      "INFO:root:Expectation step\n",
      "INFO:root:Maximisation step\n",
      "INFO:root:Complete\n",
      "INFO:root:Training log likelihood: 518471.1528752231\n",
      "INFO:root:Writing predicted test alignments to file.\n",
      "INFO:root:Validation AER: 0.3249272550921436\n",
      "INFO:root:Starting iteration 15\n",
      "INFO:root:Expectation step\n",
      "INFO:root:Maximisation step\n",
      "INFO:root:Complete\n",
      "INFO:root:Training log likelihood: 518893.50688952114\n",
      "INFO:root:Validation AER: 0.3278370514064015\n",
      "INFO:root:Starting iteration 16\n",
      "INFO:root:Expectation step\n",
      "INFO:root:Maximisation step\n",
      "INFO:root:Complete\n",
      "INFO:root:Training log likelihood: 519249.96112330497\n",
      "INFO:root:Validation AER: 0.3278370514064015\n",
      "INFO:root:Starting iteration 17\n",
      "INFO:root:Expectation step\n",
      "INFO:root:Maximisation step\n",
      "INFO:root:Complete\n",
      "INFO:root:Training log likelihood: 519553.2807389682\n",
      "INFO:root:Validation AER: 0.3288069835111542\n",
      "INFO:root:Starting iteration 18\n",
      "INFO:root:Expectation step\n",
      "INFO:root:Maximisation step\n",
      "INFO:root:Complete\n",
      "INFO:root:Training log likelihood: 519813.2787129618\n",
      "INFO:root:Validation AER: 0.3288069835111542\n",
      "INFO:root:Starting iteration 19\n",
      "INFO:root:Expectation step\n",
      "INFO:root:Maximisation step\n",
      "INFO:root:Complete\n",
      "INFO:root:Training log likelihood: 520037.69830091245\n",
      "INFO:root:Validation AER: 0.3288069835111542\n",
      "INFO:root:Starting iteration 20\n",
      "INFO:root:Expectation step\n",
      "INFO:root:Maximisation step\n",
      "INFO:root:Complete\n",
      "INFO:root:Training log likelihood: 520232.7219041581\n",
      "INFO:root:Validation AER: 0.3288069835111542\n",
      "INFO:root:Final test AER: 0.30533494475138123\n",
      "INFO:root:Selected models:\n",
      "INFO:root:Training log likelihood converged at iteration 14\n",
      "INFO:root:Test AER:0.3047980669658267\n",
      "INFO:root:Best validation AER obtained at iteration 10\n",
      "INFO:root:Test AER:0.305230557467309\n",
      "DEBUG:matplotlib.axes._base:update_title_pos\n",
      "DEBUG:matplotlib.font_manager:findfont: Matching :family=sans-serif:style=normal:variant=normal:weight=normal:stretch=normal:size=10.0 to DejaVu Sans ('/opt/anaconda3/envs/py36/lib/python3.6/site-packages/matplotlib/mpl-data/fonts/ttf/DejaVuSans.ttf') with score of 0.050000.\n",
      "DEBUG:matplotlib.font_manager:findfont: Matching :family=sans-serif:style=normal:variant=normal:weight=normal:stretch=normal:size=14.0 to DejaVu Sans ('/opt/anaconda3/envs/py36/lib/python3.6/site-packages/matplotlib/mpl-data/fonts/ttf/DejaVuSans.ttf') with score of 0.050000.\n",
      "DEBUG:matplotlib.axes._base:update_title_pos\n",
      "DEBUG:matplotlib.axes._base:update_title_pos\n",
      "DEBUG:matplotlib.axes._base:update_title_pos\n",
      "DEBUG:matplotlib.axes._base:update_title_pos\n",
      "DEBUG:matplotlib.axes._base:update_title_pos\n"
     ]
    },
    {
     "data": {
      "image/png": "[encoded data removed]",
      "text/plain": [
       "<Figure size 432x288 with 1 Axes>"
      ]
     },
     "metadata": {
      "needs_background": "light"
     },
     "output_type": "display_data"
    },
    {
     "name": "stderr",
     "output_type": "stream",
     "text": [
      "DEBUG:matplotlib.axes._base:update_title_pos\n",
      "DEBUG:matplotlib.axes._base:update_title_pos\n",
      "DEBUG:matplotlib.axes._base:update_title_pos\n",
      "DEBUG:matplotlib.axes._base:update_title_pos\n",
      "DEBUG:matplotlib.axes._base:update_title_pos\n",
      "DEBUG:matplotlib.axes._base:update_title_pos\n"
     ]
    },
    {
     "data": {
      "image/png": "[encoded data removed]",
      "text/plain": [
       "<Figure size 432x288 with 1 Axes>"
      ]
     },
     "metadata": {
      "needs_background": "light"
     },
     "output_type": "display_data"
    }
   ],
   "source": [
    "model = ibm.IBM()\n",
    "model.train(iters=20, valid=True, plot=True, test=True)"
   ]
  },
  {
   "cell_type": "code",
   "execution_count": null,
   "metadata": {
    "collapsed": true
   },
   "outputs": [],
   "source": []
  }
 ],
 "metadata": {
  "kernelspec": {
   "display_name": "Python 3",
   "language": "python",
   "name": "python3"
  },
  "language_info": {
   "codemirror_mode": {
    "name": "ipython",
    "version": 3
   },
   "file_extension": ".py",
   "mimetype": "text/x-python",
   "name": "python",
   "nbconvert_exporter": "python",
   "pygments_lexer": "ipython3",
   "version": "3.6.7"
  }
 },
 "nbformat": 4,
 "nbformat_minor": 2
}
