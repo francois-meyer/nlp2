{
 "cells": [
  {
   "cell_type": "code",
   "execution_count": 1,
   "metadata": {},
   "outputs": [
    {
     "name": "stderr",
     "output_type": "stream",
     "text": [
      "DEBUG:matplotlib.pyplot:Loaded backend module://ipykernel.pylab.backend_inline version unknown.\n"
     ]
    }
   ],
   "source": [
    "import importlib\n",
    "import imp\n",
    "import ibm2\n",
    "from ibm2 import *\n",
    "from aer import *"
   ]
  },
  {
   "cell_type": "code",
   "execution_count": 2,
   "metadata": {},
   "outputs": [
    {
     "data": {
      "text/plain": [
       "<module 'ibm2' from '/home/frmeyer/uva/nlp2/project1/ibm2.py'>"
      ]
     },
     "execution_count": 2,
     "metadata": {},
     "output_type": "execute_result"
    }
   ],
   "source": [
    "imp.reload(ibm2)"
   ]
  },
  {
   "cell_type": "code",
   "execution_count": null,
   "metadata": {},
   "outputs": [
    {
     "name": "stderr",
     "output_type": "stream",
     "text": [
      "INFO:root:Creating English vocabulary...\n",
      "INFO:root:Creating French vocabulary...\n",
      "INFO:root:Initialising model parameters...\n",
      "INFO:root:Training parameters with EM...\n",
      "INFO:root:Starting iteration 1\n",
      "INFO:root:Complete\n",
      "INFO:root:Training log likelihood: 364756.9257984776\n",
      "INFO:root:Validation AER: 0.37369914853358566\n",
      "INFO:root:Writing predicted test alignments to file.\n",
      "INFO:root:Starting iteration 2\n",
      "INFO:root:Complete\n",
      "INFO:root:Training log likelihood: 460589.96814258106\n",
      "INFO:root:Validation AER: 0.32473734479465144\n",
      "INFO:root:Writing predicted test alignments to file.\n",
      "INFO:root:Starting iteration 3\n",
      "INFO:root:Complete\n",
      "INFO:root:Training log likelihood: 493951.53411929164\n",
      "INFO:root:Validation AER: 0.3113026819923371\n",
      "INFO:root:Writing predicted test alignments to file.\n",
      "INFO:root:Starting iteration 4\n"
     ]
    }
   ],
   "source": [
    "model = ibm2.IBM()\n",
    "model.train(iters=20, valid=True, plot=True, test=True)"
   ]
  },
  {
   "cell_type": "code",
   "execution_count": null,
   "metadata": {
    "collapsed": true
   },
   "outputs": [],
   "source": []
  }
 ],
 "metadata": {
  "kernelspec": {
   "display_name": "Python 3",
   "language": "python",
   "name": "python3"
  },
  "language_info": {
   "codemirror_mode": {
    "name": "ipython",
    "version": 3
   },
   "file_extension": ".py",
   "mimetype": "text/x-python",
   "name": "python",
   "nbconvert_exporter": "python",
   "pygments_lexer": "ipython3",
   "version": "3.6.7"
  }
 },
 "nbformat": 4,
 "nbformat_minor": 2
}
