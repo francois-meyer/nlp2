{
 "cells": [
  {
   "cell_type": "code",
   "execution_count": 3,
   "metadata": {},
   "outputs": [],
   "source": [
    "import importlib\n",
    "import imp\n",
    "import ibm2\n",
    "from ibm2 import *\n",
    "from aer import *"
   ]
  },
  {
   "cell_type": "code",
   "execution_count": 4,
   "metadata": {},
   "outputs": [
    {
     "data": {
      "text/plain": [
       "<module 'ibm2' from '/home/frmeyer/uva/nlp2/project1/ibm2.py'>"
      ]
     },
     "execution_count": 4,
     "metadata": {},
     "output_type": "execute_result"
    }
   ],
   "source": [
    "imp.reload(ibm2)"
   ]
  },
  {
   "cell_type": "code",
   "execution_count": null,
   "metadata": {},
   "outputs": [
    {
     "name": "stderr",
     "output_type": "stream",
     "text": [
      "INFO:root:Creating English vocabulary...\n",
      "INFO:root:Creating French vocabulary...\n",
      "INFO:root:Initialising model parameters...\n",
      "INFO:root:Training parameters with EM...\n",
      "INFO:root:Starting iteration 1\n",
      "INFO:root:Complete\n",
      "INFO:root:Training log likelihood: 364756.9257984776\n",
      "INFO:root:Validation AER: 0.3672692673644149\n",
      "INFO:root:Writing predicted test alignments to file.\n",
      "INFO:root:Starting iteration 2\n",
      "INFO:root:Complete\n",
      "INFO:root:Training log likelihood: 460589.96814258106\n",
      "INFO:root:Validation AER: 0.31761308950914335\n",
      "INFO:root:Writing predicted test alignments to file.\n",
      "INFO:root:Starting iteration 3\n",
      "INFO:root:Complete\n",
      "INFO:root:Training log likelihood: 493951.53411929164\n",
      "INFO:root:Validation AER: 0.30761812921890064\n",
      "INFO:root:Writing predicted test alignments to file.\n",
      "INFO:root:Starting iteration 4\n",
      "INFO:root:Complete\n",
      "INFO:root:Training log likelihood: 503855.02538282913\n",
      "INFO:root:Validation AER: 0.30754352030947774\n",
      "INFO:root:Writing predicted test alignments to file.\n",
      "INFO:root:Starting iteration 5\n",
      "INFO:root:Complete\n",
      "INFO:root:Training log likelihood: 507726.67097841686\n",
      "INFO:root:Validation AER: 0.3095944609297725\n",
      "INFO:root:Starting iteration 6\n",
      "INFO:root:Complete\n",
      "INFO:root:Training log likelihood: 509640.35587588587\n",
      "INFO:root:Validation AER: 0.3092885375494071\n",
      "INFO:root:Starting iteration 7\n",
      "INFO:root:Complete\n",
      "INFO:root:Training log likelihood: 510723.096497845\n",
      "INFO:root:Validation AER: 0.30997038499506413\n",
      "INFO:root:Starting iteration 8\n"
     ]
    }
   ],
   "source": [
    "model = ibm2.IBM()\n",
    "model.train(iters=20, valid=True, plot=True, test=True)"
   ]
  },
  {
   "cell_type": "code",
   "execution_count": null,
   "metadata": {
    "collapsed": true
   },
   "outputs": [],
   "source": []
  }
 ],
 "metadata": {
  "kernelspec": {
   "display_name": "Python 3",
   "language": "python",
   "name": "python3"
  },
  "language_info": {
   "codemirror_mode": {
    "name": "ipython",
    "version": 3
   },
   "file_extension": ".py",
   "mimetype": "text/x-python",
   "name": "python",
   "nbconvert_exporter": "python",
   "pygments_lexer": "ipython3",
   "version": "3.6.7"
  }
 },
 "nbformat": 4,
 "nbformat_minor": 2
}
